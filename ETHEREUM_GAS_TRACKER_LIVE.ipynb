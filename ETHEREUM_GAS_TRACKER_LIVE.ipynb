{
  "nbformat": 4,
  "nbformat_minor": 0,
  "metadata": {
    "colab": {
      "provenance": [],
      "authorship_tag": "ABX9TyN5Mw+ldl8JTYzJTpXTvFco",
      "include_colab_link": true
    },
    "kernelspec": {
      "name": "python3",
      "display_name": "Python 3"
    },
    "language_info": {
      "name": "python"
    }
  },
  "cells": [
    {
      "cell_type": "markdown",
      "metadata": {
        "id": "view-in-github",
        "colab_type": "text"
      },
      "source": [
        "<a href=\"https://colab.research.google.com/github/reymillerc/Ethereum_Gas_Fee_App/blob/Live-Tracker/ETHEREUM_GAS_TRACKER_LIVE.ipynb\" target=\"_parent\"><img src=\"https://colab.research.google.com/assets/colab-badge.svg\" alt=\"Open In Colab\"/></a>"
      ]
    },
    {
      "cell_type": "code",
      "source": [
        "import requests\n",
        "import json\n",
        "import time\n",
        "from google.colab import userdata\n",
        "from IPython.display import clear_output  # Import clear_output function\n",
        "\n",
        "# Retrieve the secret from Colab's secrets\n",
        "INFURA_API_KEY = userdata.get('infurakey1')\n",
        "\n",
        "def fetch_gas_price():\n",
        "    url = f'https://mainnet.infura.io/v3/{INFURA_API_KEY}'\n",
        "\n",
        "    payload = {\n",
        "        \"jsonrpc\": \"2.0\",\n",
        "        \"method\": \"eth_gasPrice\",\n",
        "        \"params\": [],\n",
        "        \"id\": 1\n",
        "    }\n",
        "\n",
        "    headers = {'content-type': 'application/json'}\n",
        "\n",
        "    response = requests.post(url, data=json.dumps(payload), headers=headers).json()\n",
        "\n",
        "    # Converting from hexadecimal string (starting by 0x) into an integer\n",
        "    gas_price_wei = int(response['result'], 16)\n",
        "\n",
        "    # Transforming gas Wei to Gwei\n",
        "    gas_price_gwei = round(gas_price_wei / 10**9, 2)  # Rounding to two decimals\n",
        "\n",
        "    # Clear the previous output before printing the new gas price\n",
        "    clear_output(wait=True)\n",
        "    print(\"Gas Price (Gwei):\", gas_price_gwei)\n",
        "\n",
        "# Run indefinitely\n",
        "while True:\n",
        "    fetch_gas_price()\n",
        "    # Ethereum blocks are created every 12 seconds\n",
        "    time.sleep(12)\n"
      ],
      "metadata": {
        "id": "Pnxb9emgf7MT"
      },
      "execution_count": null,
      "outputs": []
    }
  ]
}